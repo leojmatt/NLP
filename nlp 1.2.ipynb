{
  "nbformat": 4,
  "nbformat_minor": 0,
  "metadata": {
    "colab": {
      "provenance": [],
      "gpuType": "T4"
    },
    "kernelspec": {
      "name": "python3",
      "display_name": "Python 3"
    },
    "language_info": {
      "name": "python"
    },
    "accelerator": "GPU"
  },
  "cells": [
    {
      "cell_type": "code",
      "execution_count": null,
      "metadata": {
        "id": "yYgVpWOk5YdI"
      },
      "outputs": [],
      "source": [
        "!pip install -Uqq datasets\n",
        "!pip install -Uqq scikit-learn"
      ]
    },
    {
      "cell_type": "markdown",
      "source": [
        "## Load dataset"
      ],
      "metadata": {
        "id": "uRb2mkMHVvWv"
      }
    },
    {
      "cell_type": "code",
      "source": [
        "from datasets import load_dataset\n",
        "\n",
        "dataset = load_dataset(\"carblacac/twitter-sentiment-analysis\")\n",
        "print(dataset)\n"
      ],
      "metadata": {
        "colab": {
          "base_uri": "https://localhost:8080/"
        },
        "id": "HVbOb3iE5mLd",
        "outputId": "f2fa233f-d789-4487-a11e-9eaa41b03dde"
      },
      "execution_count": null,
      "outputs": [
        {
          "output_type": "stream",
          "name": "stdout",
          "text": [
            "DatasetDict({\n",
            "    train: Dataset({\n",
            "        features: ['text', 'feeling'],\n",
            "        num_rows: 119988\n",
            "    })\n",
            "    validation: Dataset({\n",
            "        features: ['text', 'feeling'],\n",
            "        num_rows: 29997\n",
            "    })\n",
            "    test: Dataset({\n",
            "        features: ['text', 'feeling'],\n",
            "        num_rows: 61998\n",
            "    })\n",
            "})\n"
          ]
        }
      ]
    },
    {
      "cell_type": "markdown",
      "source": [
        "## Split dataset"
      ],
      "metadata": {
        "id": "IaTVNQoyV5sL"
      }
    },
    {
      "cell_type": "code",
      "source": [
        "train_data = dataset[\"train\"]\n",
        "test_data = dataset[\"test\"]\n",
        "\n",
        "# sample data point\n",
        "sample = train_data[0]\n",
        "print(\"Sample:\", sample)"
      ],
      "metadata": {
        "colab": {
          "base_uri": "https://localhost:8080/"
        },
        "id": "y_7MgEkhV8k9",
        "outputId": "afcf6b72-a222-4b17-c01c-48ac652f2fa1"
      },
      "execution_count": null,
      "outputs": [
        {
          "output_type": "stream",
          "name": "stdout",
          "text": [
            "Sample: {'text': '@fa6ami86 so happy that salman won.  btw the 14sec clip is truely a teaser', 'feeling': 0}\n"
          ]
        }
      ]
    },
    {
      "cell_type": "markdown",
      "source": [
        "## Transform data"
      ],
      "metadata": {
        "id": "XL3-hZrqWY2k"
      }
    },
    {
      "cell_type": "code",
      "source": [
        "from sklearn.feature_extraction.text import CountVectorizer, TfidfTransformer\n",
        "\n",
        "train_text = [item['text'] for item in train_data]\n",
        "train_labels = [item['feeling'] for item in train_data]\n",
        "\n",
        "test_text = [item['text'] for item in test_data]\n",
        "test_labels = [item['feeling'] for item in test_data]\n",
        "\n",
        "# Vectorize\n",
        "count_vectorizer = CountVectorizer()\n",
        "X_train_counts = count_vectorizer.fit_transform(train_text)\n",
        "X_test_counts = count_vectorizer.transform(test_text)\n",
        "\n",
        "# TF-IDF representation\n",
        "tfidf_transformer = TfidfTransformer()\n",
        "X_train_tfidf = tfidf_transformer.fit_transform(X_train_counts)\n",
        "X_test_tfidf = tfidf_transformer.transform(X_test_counts)\n"
      ],
      "metadata": {
        "id": "3Ne4-Oe05rVB"
      },
      "execution_count": null,
      "outputs": []
    },
    {
      "cell_type": "markdown",
      "source": [
        "## Train data using SVM classifier"
      ],
      "metadata": {
        "id": "EzRoJOxNW_R5"
      }
    },
    {
      "cell_type": "code",
      "source": [
        "from sklearn.svm import SVC\n",
        "\n",
        "svc = SVC(kernel='linear')\n",
        "svc.fit(X_train_tfidf, train_labels)\n",
        "pred_labels = svc.predict(X_test_tfidf)\n"
      ],
      "metadata": {
        "id": "koy9JU9UVA_M"
      },
      "execution_count": null,
      "outputs": []
    },
    {
      "cell_type": "markdown",
      "source": [
        "## Evaluate Model"
      ],
      "metadata": {
        "id": "N90i_zUmXFIn"
      }
    },
    {
      "cell_type": "code",
      "source": [
        "from sklearn.metrics import accuracy_score, classification_report\n",
        "\n",
        "\n",
        "print(\"Support Vector Machine Classifier:\\n\")\n",
        "\n",
        "print(\" Test Set Accuracy:\", accuracy_score(test_labels, pred_labels))\n",
        "print(\" Classification Report:\")\n",
        "print(classification_report(test_labels, pred_labels))"
      ],
      "metadata": {
        "id": "M_GX2zkT9rJw",
        "colab": {
          "base_uri": "https://localhost:8080/"
        },
        "outputId": "f979966b-f1f6-4744-e8c7-051ecf49d8b7"
      },
      "execution_count": null,
      "outputs": [
        {
          "output_type": "stream",
          "name": "stdout",
          "text": [
            "Support Vector Machine Classifier:\n",
            "\n",
            " Test Set Accuracy: 0.7824929836446337\n",
            " Classification Report:\n",
            "              precision    recall  f1-score   support\n",
            "\n",
            "           0       0.78      0.78      0.78     30969\n",
            "           1       0.78      0.78      0.78     31029\n",
            "\n",
            "    accuracy                           0.78     61998\n",
            "   macro avg       0.78      0.78      0.78     61998\n",
            "weighted avg       0.78      0.78      0.78     61998\n",
            "\n"
          ]
        }
      ]
    }
  ]
}