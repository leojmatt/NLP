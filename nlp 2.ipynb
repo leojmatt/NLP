{
  "nbformat": 4,
  "nbformat_minor": 0,
  "metadata": {
    "colab": {
      "provenance": []
    },
    "kernelspec": {
      "name": "python3",
      "display_name": "Python 3"
    },
    "language_info": {
      "name": "python"
    }
  },
  "cells": [
    {
      "cell_type": "code",
      "source": [
        "from google.colab import drive\n",
        "drive.mount('/content/drive')"
      ],
      "metadata": {
        "colab": {
          "base_uri": "https://localhost:8080/"
        },
        "id": "3GAQQqIIetaU",
        "outputId": "27482414-4dc6-41e0-e517-e08e2376245c"
      },
      "execution_count": null,
      "outputs": [
        {
          "output_type": "stream",
          "name": "stdout",
          "text": [
            "Mounted at /content/drive\n"
          ]
        }
      ]
    },
    {
      "cell_type": "code",
      "source": [
        "import torch\n",
        "import torch.nn as nn\n",
        "import torch.optim as optim\n",
        "import torch.utils.data as data\n",
        "import torch.nn.functional as F\n",
        "import os\n",
        "import math\n",
        "import copy"
      ],
      "metadata": {
        "id": "xT58eU0SYT8R"
      },
      "execution_count": null,
      "outputs": []
    },
    {
      "cell_type": "code",
      "source": [
        "directory_path = '/content/drive/MyDrive/NLP/v2/en-hi'\n",
        "\n",
        "en_file_name = 'train.en'\n",
        "hi_file_name = 'train.hi'\n",
        "\n",
        "en_file_path = os.path.join(directory_path, en_file_name)\n",
        "hi_file_path = os.path.join(directory_path, hi_file_name)"
      ],
      "metadata": {
        "id": "ERjt6_W0d6AQ"
      },
      "execution_count": null,
      "outputs": []
    },
    {
      "cell_type": "code",
      "source": [
        "with open(en_file_path, 'r', encoding='utf-8') as en_file:\n",
        "    en_sentences = [line.strip() for line in en_file.readlines()]\n",
        "\n",
        "with open(hi_file_path, 'r', encoding='utf-8') as hi_file:\n",
        "    hi_sentences = [line.strip() for line in hi_file.readlines()]\n",
        "\n",
        "# Print the first few sentences as a sample\n",
        "print(\"Sample English Sentences:\")\n",
        "print(en_sentences[:3])\n",
        "\n",
        "print(\"\\nSample Hindi Sentences:\")\n",
        "print(hi_sentences[:3])"
      ],
      "metadata": {
        "colab": {
          "base_uri": "https://localhost:8080/"
        },
        "id": "gj-pgokMd65K",
        "outputId": "548dbcd6-3942-4cad-dada-a5972289562a"
      },
      "execution_count": null,
      "outputs": [
        {
          "output_type": "stream",
          "name": "stdout",
          "text": [
            "Sample English Sentences:\n",
            "[\"However, Paes, who was partnering Australia's Paul Hanley, could only go as far as the quarterfinals where they lost to Bhupathi and Knowles\", 'Whosoever desires the reward of the world, with Allah is the reward of the world and of the Everlasting Life. Allah is the Hearer, the Seer.', 'The value of insects in the biosphere is enormous because they outnumber all other living groups in measure of species richness.']\n",
            "\n",
            "Sample Hindi Sentences:\n",
            "['आस्ट्रेलिया के पाल हेनली के साथ जोड़ी बनाने वाले पेस मियामी में क्वार्टरफाइनल तक ही पहुंच सके क्योंकि इस दौर में उन्हें भूपति और नोल्स ने हराया था।', 'और जो शख्स (अपने आमाल का) बदला दुनिया ही में चाहता है तो ख़ुदा के पास दुनिया व आख़िरत दोनों का अज्र मौजूद है और ख़ुदा तो हर शख्स की सुनता और सबको देखता है', 'जैव-मंडल में कीड़ों का मूल्य बहुत है, क्योंकि प्रजातियों की समृद्धि के मामले में उनकी संख्या अन्य जीव समूहों से ज़्यादा है।']\n"
          ]
        }
      ]
    },
    {
      "cell_type": "code",
      "source": [
        "en_sentences = en_sentences[:6000]\n",
        "hi_sentences = hi_sentences[:6000]"
      ],
      "metadata": {
        "id": "cPfJnhCB_hbt"
      },
      "execution_count": null,
      "outputs": []
    },
    {
      "cell_type": "markdown",
      "source": [
        "## Attention and Encoding"
      ],
      "metadata": {
        "id": "iSDMJwqdFCq9"
      }
    },
    {
      "cell_type": "code",
      "source": [
        "class MultiHeadAttention(nn.Module):\n",
        "    def __init__(self, d_model, num_heads):\n",
        "        super(MultiHeadAttention, self).__init__()\n",
        "\n",
        "        assert d_model % num_heads == 0, \"d_model must be divisible by num_heads\"\n",
        "\n",
        "\n",
        "        self.d_model = d_model\n",
        "        self.num_heads = num_heads\n",
        "        self.d_k = d_model // num_heads\n",
        "\n",
        "        self.W_q = nn.Linear(d_model, d_model)\n",
        "        self.W_k = nn.Linear(d_model, d_model)\n",
        "        self.W_v = nn.Linear(d_model, d_model)\n",
        "        self.W_o = nn.Linear(d_model, d_model)\n",
        "\n",
        "    def scaled_dot_product_attention(self, Q, K, V, mask=None):\n",
        "\n",
        "        attn_scores = torch.matmul(Q, K.transpose(-2, -1)) / math.sqrt(self.d_k)\n",
        "\n",
        "        if mask is not None:\n",
        "            attn_scores = attn_scores.masked_fill(mask == 0, -1e9)\n",
        "\n",
        "        attn_probs = torch.softmax(attn_scores, dim=-1)\n",
        "\n",
        "        output = torch.matmul(attn_probs, V)\n",
        "        return output\n",
        "\n",
        "    def split_heads(self, x):\n",
        "        batch_size, seq_length, d_model = x.size()\n",
        "        return x.view(batch_size, seq_length, self.num_heads, self.d_k).transpose(1, 2)\n",
        "\n",
        "    def combine_heads(self, x):\n",
        "        batch_size, _, seq_length, d_k = x.size()\n",
        "        return x.transpose(1, 2).contiguous().view(batch_size, seq_length, self.d_model)\n",
        "\n",
        "    def forward(self, Q, K, V, mask=None):\n",
        "        Q = self.split_heads(self.W_q(Q))\n",
        "        K = self.split_heads(self.W_k(K))\n",
        "        V = self.split_heads(self.W_v(V))\n",
        "\n",
        "        attn_output = self.scaled_dot_product_attention(Q, K, V, mask)\n",
        "        output = self.W_o(self.combine_heads(attn_output))\n",
        "        return output"
      ],
      "metadata": {
        "id": "KOFyXtmqYdHs"
      },
      "execution_count": null,
      "outputs": []
    },
    {
      "cell_type": "code",
      "source": [
        "class PositionWiseFeedForward(nn.Module):\n",
        "    def __init__(self, d_model, d_ff):\n",
        "        super(PositionWiseFeedForward, self).__init__()\n",
        "        self.fc1 = nn.Linear(d_model, d_ff)\n",
        "        self.fc2 = nn.Linear(d_ff, d_model)\n",
        "        self.relu = nn.ReLU()\n",
        "\n",
        "    def forward(self, x):\n",
        "        return self.fc2(self.relu(self.fc1(x)))"
      ],
      "metadata": {
        "id": "WiRKXlAHYjGV"
      },
      "execution_count": null,
      "outputs": []
    },
    {
      "cell_type": "code",
      "source": [
        "class PositionalEncoding(nn.Module):\n",
        "    def __init__(self, d_model, max_seq_length):\n",
        "        super(PositionalEncoding, self).__init__()\n",
        "\n",
        "        pe = torch.zeros(max_seq_length, d_model)\n",
        "        position = torch.arange(0, max_seq_length, dtype=torch.float).unsqueeze(1)\n",
        "        div_term = torch.exp(torch.arange(0, d_model, 2).float() * -(math.log(10000.0) / d_model))\n",
        "\n",
        "        pe[:, 0::2] = torch.sin(position * div_term)\n",
        "        pe[:, 1::2] = torch.cos(position * div_term)\n",
        "\n",
        "        self.register_buffer('pe', pe.unsqueeze(0))\n",
        "\n",
        "    def forward(self, x):\n",
        "        return x + self.pe[:, :x.size(1)]"
      ],
      "metadata": {
        "id": "eLWe_0heYyN5"
      },
      "execution_count": null,
      "outputs": []
    },
    {
      "cell_type": "markdown",
      "source": [
        "## Encoder and Decoder blocks"
      ],
      "metadata": {
        "id": "iO6wrX6jY8X6"
      }
    },
    {
      "cell_type": "code",
      "source": [
        "class EncoderLayer(nn.Module):\n",
        "    def __init__(self, d_model, num_heads, d_ff, dropout):\n",
        "        super(EncoderLayer, self).__init__()\n",
        "        self.self_attn = MultiHeadAttention(d_model, num_heads)\n",
        "        self.feed_forward = PositionWiseFeedForward(d_model, d_ff)\n",
        "        self.norm1 = nn.LayerNorm(d_model)\n",
        "        self.norm2 = nn.LayerNorm(d_model)\n",
        "        self.dropout = nn.Dropout(dropout)\n",
        "\n",
        "    def forward(self, x, mask):\n",
        "        attn_output = self.self_attn(x, x, x, mask)\n",
        "        x = self.norm1(x + self.dropout(attn_output))\n",
        "        ff_output = self.feed_forward(x)\n",
        "        x = self.norm2(x + self.dropout(ff_output))\n",
        "        return x"
      ],
      "metadata": {
        "id": "-jDFBkLvY1OI"
      },
      "execution_count": null,
      "outputs": []
    },
    {
      "cell_type": "code",
      "source": [
        "class DecoderLayer(nn.Module):\n",
        "    def __init__(self, d_model, num_heads, d_ff, dropout):\n",
        "        super(DecoderLayer, self).__init__()\n",
        "        self.self_attn = MultiHeadAttention(d_model, num_heads)\n",
        "        self.cross_attn = MultiHeadAttention(d_model, num_heads)\n",
        "        self.feed_forward = PositionWiseFeedForward(d_model, d_ff)\n",
        "        self.norm1 = nn.LayerNorm(d_model)\n",
        "        self.norm2 = nn.LayerNorm(d_model)\n",
        "        self.norm3 = nn.LayerNorm(d_model)\n",
        "        self.dropout = nn.Dropout(dropout)\n",
        "\n",
        "    def forward(self, x, enc_output, src_mask, tgt_mask):\n",
        "        attn_output = self.self_attn(x, x, x, tgt_mask)\n",
        "        x = self.norm1(x + self.dropout(attn_output))\n",
        "        attn_output = self.cross_attn(x, enc_output, enc_output, src_mask)\n",
        "        x = self.norm2(x + self.dropout(attn_output))\n",
        "        ff_output = self.feed_forward(x)\n",
        "        x = self.norm3(x + self.dropout(ff_output))\n",
        "        return x"
      ],
      "metadata": {
        "id": "hflukFIsY_jl"
      },
      "execution_count": null,
      "outputs": []
    },
    {
      "cell_type": "markdown",
      "source": [
        "## Transformer Model"
      ],
      "metadata": {
        "id": "mzhT7QgZZqdU"
      }
    },
    {
      "cell_type": "code",
      "source": [
        "class Transformer(nn.Module):\n",
        "    def __init__(self, src_vocab_size, tgt_vocab_size, d_model, num_heads, num_layers, d_ff, max_seq_length, dropout):\n",
        "        super(Transformer, self).__init__()\n",
        "        self.encoder_embedding = nn.Embedding(src_vocab_size, d_model)\n",
        "        self.decoder_embedding = nn.Embedding(tgt_vocab_size, d_model)\n",
        "        self.positional_encoding = PositionalEncoding(d_model, max_seq_length)\n",
        "\n",
        "        self.encoder_layers = nn.ModuleList([EncoderLayer(d_model, num_heads, d_ff, dropout) for _ in range(num_layers)])\n",
        "        self.decoder_layers = nn.ModuleList([DecoderLayer(d_model, num_heads, d_ff, dropout) for _ in range(num_layers)])\n",
        "\n",
        "        self.fc = nn.Linear(d_model, tgt_vocab_size)\n",
        "        self.dropout = nn.Dropout(dropout)\n",
        "\n",
        "    def generate_mask(self, src, tgt):\n",
        "        src_mask = (src != 0).unsqueeze(1).unsqueeze(2)\n",
        "        tgt_mask = (tgt != 0).unsqueeze(1).unsqueeze(3)\n",
        "        seq_length = tgt.size(1)\n",
        "        nopeak_mask = (1 - torch.triu(torch.ones(1, seq_length, seq_length), diagonal=1)).bool()\n",
        "        tgt_mask = tgt_mask & nopeak_mask\n",
        "        return src_mask, tgt_mask\n",
        "\n",
        "    def forward(self, src, tgt):\n",
        "        src_mask, tgt_mask = self.generate_mask(src, tgt)\n",
        "        src_embedded = self.dropout(self.positional_encoding(self.encoder_embedding(src)))\n",
        "        tgt_embedded = self.dropout(self.positional_encoding(self.decoder_embedding(tgt)))\n",
        "\n",
        "        enc_output = src_embedded\n",
        "        for enc_layer in self.encoder_layers:\n",
        "            enc_output = enc_layer(enc_output, src_mask)\n",
        "\n",
        "        dec_output = tgt_embedded\n",
        "        for dec_layer in self.decoder_layers:\n",
        "            dec_output = dec_layer(dec_output, enc_output, src_mask, tgt_mask)\n",
        "\n",
        "        output = self.fc(dec_output)\n",
        "        return output"
      ],
      "metadata": {
        "id": "h7_YWOjxZEFh"
      },
      "execution_count": null,
      "outputs": []
    },
    {
      "cell_type": "markdown",
      "source": [
        "## Load and Preprocess data"
      ],
      "metadata": {
        "id": "McD9oYImZxBw"
      }
    },
    {
      "cell_type": "code",
      "source": [
        "import torch\n",
        "from sklearn.model_selection import train_test_split\n",
        "\n",
        "def tokenize_sentences(sentences, vocab, max_length):\n",
        "    tokenized = []\n",
        "    for sentence in sentences:\n",
        "        tokens = [vocab[word] if word in vocab else vocab[\"<UNK>\"] for word in sentence.split()]\n",
        "        tokens += [vocab[\"<PAD>\"]] * (max_length - len(tokens))  # Pad to the maximum length\n",
        "        tokenized.append(tokens)\n",
        "    return tokenized\n",
        "\n",
        "def build_vocab(sentences):\n",
        "    vocab = {\"<PAD>\": 0, \"<SOS>\": 1, \"<EOS>\": 2, \"<UNK>\": 3}  # Special tokens for padding, start of sequence, end of sequence, and unknown words\n",
        "    idx = len(vocab)\n",
        "\n",
        "    for sentence in sentences:\n",
        "        for word in sentence.split():\n",
        "            if word not in vocab:\n",
        "                vocab[word] = idx\n",
        "                idx += 1\n",
        "\n",
        "    return vocab\n",
        "\n",
        "def preprocess_and_split_data(en_sentences, hi_sentences, test_size=0.2, random_state=42):\n",
        "\n",
        "    en_vocab = build_vocab(en_sentences)\n",
        "    hi_vocab = build_vocab(hi_sentences)\n",
        "\n",
        "    en_max_length = max(len(sentence.split()) for sentence in en_sentences)\n",
        "    hi_max_length = max(len(sentence.split()) for sentence in hi_sentences)\n",
        "\n",
        "    en_tokenized = tokenize_sentences(en_sentences, en_vocab, 200)\n",
        "    hi_tokenized = tokenize_sentences(hi_sentences, hi_vocab, 200)\n",
        "\n",
        "    src_data = torch.tensor(en_tokenized)\n",
        "    tgt_data = torch.tensor(hi_tokenized)\n",
        "\n",
        "    src_train, src_test, tgt_train, tgt_test = train_test_split(src_data, tgt_data, test_size=test_size, random_state=random_state)\n",
        "\n",
        "    return src_train, src_test, tgt_train, tgt_test, en_vocab, hi_vocab\n",
        "\n",
        "\n",
        "src_train, src_test, tgt_train, tgt_test, en_vocab, hi_vocab = preprocess_and_split_data(en_sentences, hi_sentences)"
      ],
      "metadata": {
        "id": "dV5BZQ6PdZvi"
      },
      "execution_count": null,
      "outputs": []
    },
    {
      "cell_type": "markdown",
      "source": [
        "## Train"
      ],
      "metadata": {
        "id": "f6OdXTK8UCad"
      }
    },
    {
      "cell_type": "code",
      "source": [
        "src_vocab_size = len(en_vocab)\n",
        "tgt_vocab_size = len(hi_vocab)\n",
        "d_model = 512\n",
        "num_heads = 8\n",
        "num_layers = 6\n",
        "d_ff = 2048\n",
        "max_seq_length = 200\n",
        "dropout = 0.1\n",
        "\n",
        "transformer = Transformer(src_vocab_size, tgt_vocab_size, d_model, num_heads, num_layers, d_ff, max_seq_length, dropout)\n",
        "\n",
        "criterion = nn.CrossEntropyLoss(ignore_index=0)\n",
        "optimizer = optim.Adam(transformer.parameters(), lr=0.0001, betas=(0.9, 0.98), eps=1e-9)\n",
        "\n",
        "\n",
        "transformer.train()\n",
        "\n",
        "for epoch in range(100):\n",
        "    optimizer.zero_grad()\n",
        "    output = transformer(src_train, tgt_train[:, :-1])\n",
        "    loss = criterion(output.contiguous().view(-1, tgt_vocab_size), tgt_train[:, 1:].contiguous().view(-1))\n",
        "    loss.backward()\n",
        "    optimizer.step()\n",
        "    print(f\"Epoch: {epoch+1}, Loss: {loss.item()}\")"
      ],
      "metadata": {
        "colab": {
          "base_uri": "https://localhost:8080/"
        },
        "id": "PEE6nB39emtq",
        "outputId": "1a5bdab9-92d3-499a-c80a-c05d1178b463"
      },
      "execution_count": null,
      "outputs": [
        {
          "output_type": "stream",
          "name": "stdout",
          "text": [
            "Epoch: 1, Loss: 6.634443283081055\n",
            "Epoch: 2, Loss: 6.068175315856934\n",
            "Epoch: 3, Loss: 5.88072395324707\n",
            "Epoch: 4, Loss: 5.763003349304199\n",
            "Epoch: 5, Loss: 5.668879985809326\n",
            "Epoch: 6, Loss: 5.54315185546875\n",
            "Epoch: 7, Loss: 5.3716630935668945\n",
            "Epoch: 8, Loss: 5.170507431030273\n",
            "Epoch: 9, Loss: 4.960590362548828\n",
            "Epoch: 10, Loss: 4.772012710571289\n",
            "Epoch: 11, Loss: 4.598611354827881\n",
            "Epoch: 12, Loss: 4.409081935882568\n",
            "Epoch: 13, Loss: 4.2277703285217285\n",
            "Epoch: 14, Loss: 4.056327819824219\n",
            "Epoch: 15, Loss: 3.8969850540161133\n",
            "Epoch: 16, Loss: 3.7167510986328125\n",
            "Epoch: 17, Loss: 3.5563735961914062\n",
            "Epoch: 18, Loss: 3.4014415740966797\n",
            "Epoch: 19, Loss: 3.243086338043213\n",
            "Epoch: 20, Loss: 3.0986011028289795\n",
            "Epoch: 21, Loss: 2.9604973793029785\n",
            "Epoch: 22, Loss: 2.810966730117798\n",
            "Epoch: 23, Loss: 2.693506956100464\n",
            "Epoch: 24, Loss: 2.5489792823791504\n",
            "Epoch: 25, Loss: 2.4287033081054688\n",
            "Epoch: 26, Loss: 2.2963860034942627\n",
            "Epoch: 27, Loss: 2.174686908721924\n",
            "Epoch: 28, Loss: 2.0574753284454346\n",
            "Epoch: 29, Loss: 1.941569209098816\n",
            "Epoch: 30, Loss: 1.839689016342163\n",
            "Epoch: 31, Loss: 1.7242600917816162\n",
            "Epoch: 32, Loss: 1.6398521661758423\n",
            "Epoch: 33, Loss: 1.5450937747955322\n",
            "Epoch: 34, Loss: 1.4603281021118164\n",
            "Epoch: 35, Loss: 1.3758859634399414\n",
            "Epoch: 36, Loss: 1.2913293838500977\n",
            "Epoch: 37, Loss: 1.212289571762085\n",
            "Epoch: 38, Loss: 1.137242317199707\n",
            "Epoch: 39, Loss: 1.0670075416564941\n",
            "Epoch: 40, Loss: 1.0051935911178589\n",
            "Epoch: 41, Loss: 0.956505298614502\n",
            "Epoch: 42, Loss: 0.8923987150192261\n",
            "Epoch: 43, Loss: 0.8408222198486328\n",
            "Epoch: 44, Loss: 0.788634717464447\n",
            "Epoch: 45, Loss: 0.7420832514762878\n",
            "Epoch: 46, Loss: 0.6940590143203735\n",
            "Epoch: 47, Loss: 0.6577562093734741\n",
            "Epoch: 48, Loss: 0.6163175106048584\n",
            "Epoch: 49, Loss: 0.5776053667068481\n",
            "Epoch: 50, Loss: 0.5461422801017761\n",
            "Epoch: 51, Loss: 0.5144744515419006\n",
            "Epoch: 52, Loss: 0.4792900085449219\n",
            "Epoch: 53, Loss: 0.44770967960357666\n",
            "Epoch: 54, Loss: 0.42632803320884705\n",
            "Epoch: 55, Loss: 0.40610986948013306\n",
            "Epoch: 56, Loss: 0.3779830038547516\n",
            "Epoch: 57, Loss: 0.3575907051563263\n",
            "Epoch: 58, Loss: 0.34323540329933167\n",
            "Epoch: 59, Loss: 0.32595816254615784\n",
            "Epoch: 60, Loss: 0.3066687285900116\n",
            "Epoch: 61, Loss: 0.2954934239387512\n",
            "Epoch: 62, Loss: 0.2807324230670929\n",
            "Epoch: 63, Loss: 0.2610926628112793\n",
            "Epoch: 64, Loss: 0.2553076148033142\n",
            "Epoch: 65, Loss: 0.23644927144050598\n",
            "Epoch: 66, Loss: 0.22875294089317322\n",
            "Epoch: 67, Loss: 0.21907009184360504\n",
            "Epoch: 68, Loss: 0.20659412443637848\n",
            "Epoch: 69, Loss: 0.19548368453979492\n",
            "Epoch: 70, Loss: 0.19036656618118286\n",
            "Epoch: 71, Loss: 0.1845930516719818\n",
            "Epoch: 72, Loss: 0.17749619483947754\n",
            "Epoch: 73, Loss: 0.1671590507030487\n",
            "Epoch: 74, Loss: 0.16180108487606049\n",
            "Epoch: 75, Loss: 0.15285234153270721\n",
            "Epoch: 76, Loss: 0.14596134424209595\n",
            "Epoch: 77, Loss: 0.14374616742134094\n",
            "Epoch: 78, Loss: 0.13931508362293243\n",
            "Epoch: 79, Loss: 0.13598603010177612\n",
            "Epoch: 80, Loss: 0.1273259073495865\n",
            "Epoch: 81, Loss: 0.12568962574005127\n",
            "Epoch: 82, Loss: 0.11818400025367737\n",
            "Epoch: 83, Loss: 0.11517059803009033\n",
            "Epoch: 84, Loss: 0.11234080046415329\n",
            "Epoch: 85, Loss: 0.10821174085140228\n",
            "Epoch: 86, Loss: 0.10472510755062103\n",
            "Epoch: 87, Loss: 0.10169972479343414\n",
            "Epoch: 88, Loss: 0.10060492157936096\n",
            "Epoch: 89, Loss: 0.09628375619649887\n",
            "Epoch: 90, Loss: 0.09152410924434662\n",
            "Epoch: 91, Loss: 0.08928267657756805\n",
            "Epoch: 92, Loss: 0.0884995311498642\n",
            "Epoch: 93, Loss: 0.08522465080022812\n",
            "Epoch: 94, Loss: 0.08267778903245926\n",
            "Epoch: 95, Loss: 0.0805099830031395\n",
            "Epoch: 96, Loss: 0.0795331597328186\n",
            "Epoch: 97, Loss: 0.07617062330245972\n",
            "Epoch: 98, Loss: 0.07418248802423477\n",
            "Epoch: 99, Loss: 0.07327292859554291\n",
            "Epoch: 100, Loss: 0.06910879164934158\n"
          ]
        }
      ]
    },
    {
      "cell_type": "markdown",
      "source": [
        "## Evaluate"
      ],
      "metadata": {
        "id": "6gqmyX4EUFFW"
      }
    },
    {
      "cell_type": "code",
      "source": [
        "def tensor_to_sentence(tensor, vocab, remove_pad=True):\n",
        "    sentence = []\n",
        "    for num in tensor:\n",
        "      word = list(vocab.keys())[list(vocab.values()).index(num.item())]\n",
        "      sentence.append(word)\n",
        "\n",
        "    if remove_pad:\n",
        "          sentence = [word for word in sentence if word != '<PAD>']\n",
        "\n",
        "    return \" \".join(sentence)"
      ],
      "metadata": {
        "id": "4BeteiWoW9sb"
      },
      "execution_count": null,
      "outputs": []
    },
    {
      "cell_type": "code",
      "source": [
        "transformer.eval()\n",
        "\n",
        "with torch.no_grad():\n",
        "    val_output = transformer(src_test, tgt_test[:, :-1])\n",
        "\n",
        "    val_loss = criterion(val_output.contiguous().view(-1, tgt_vocab_size), tgt_test[:, 1:].contiguous().view(-1))\n",
        "    print(f\"Validation Loss: {val_loss.item()}\")"
      ],
      "metadata": {
        "colab": {
          "base_uri": "https://localhost:8080/"
        },
        "id": "L0SFqynDUN3z",
        "outputId": "626795c9-1ef0-4314-c7f9-cdd4c24e0cf7"
      },
      "execution_count": null,
      "outputs": [
        {
          "output_type": "stream",
          "name": "stdout",
          "text": [
            "Validation Loss: 6.552799701690674\n"
          ]
        }
      ]
    },
    {
      "cell_type": "markdown",
      "source": [
        "## Example output"
      ],
      "metadata": {
        "id": "23azJb-qXDg1"
      }
    },
    {
      "cell_type": "code",
      "source": [
        "input_tensor = src_test[0]\n",
        "input_sentence = tensor_to_sentence(input_tensor, en_vocab)\n",
        "print(\"Input: \", input_sentence)\n",
        "\n",
        "\n",
        "target_tensor = tgt_test[0]\n",
        "target_sentence = tensor_to_sentence(target_tensor, hi_vocab)\n",
        "print(\"Expected: \", target_sentence)\n",
        "\n",
        "\n",
        "predicted_tensor = val_output.argmax(dim=-1)\n",
        "predicted_sentence = tensor_to_sentence(predicted_tensor[0], hi_vocab)\n",
        "print(\"Predicted: \", target_sentence)\n"
      ],
      "metadata": {
        "colab": {
          "base_uri": "https://localhost:8080/"
        },
        "id": "XPjvuT9TXAzq",
        "outputId": "aa321029-b3f4-4d1e-b95d-f904a3700b1f"
      },
      "execution_count": null,
      "outputs": [
        {
          "output_type": "stream",
          "name": "stdout",
          "text": [
            "Input:  However, Paes, who was partnering Australia's Paul Hanley, could only go as far as the quarterfinals where they lost to Bhupathi and Knowles\n",
            "Expected:  आस्ट्रेलिया के पाल हेनली के साथ जोड़ी बनाने वाले पेस मियामी में क्वार्टरफाइनल तक ही पहुंच सके क्योंकि इस दौर में उन्हें भूपति और नोल्स ने हराया था।\n",
            "Predicted:  आस्ट्रेलिया के पाल हेनली के साथ जोड़ी बनाने वाले पेस मियामी में क्वार्टरफाइनल तक ही पहुंच सके क्योंकि इस दौर में उन्हें भूपति और नोल्स ने हराया था।\n"
          ]
        }
      ]
    }
  ]
}